{
 "cells": [
  {
   "cell_type": "code",
   "execution_count": 2,
   "metadata": {},
   "outputs": [
    {
     "name": "stdout",
     "output_type": "stream",
     "text": [
      "Hello User!\n"
     ]
    }
   ],
   "source": [
    "# IMPORTS\n",
    "import numpy as np\n",
    "import matplotlib.pyplot as plt\n",
    "\n",
    "# Test Message\n",
    "print(\"Hello User!\")"
   ]
  },
  {
   "cell_type": "code",
   "execution_count": 193,
   "metadata": {},
   "outputs": [
    {
     "name": "stdout",
     "output_type": "stream",
     "text": [
      "{0: 'data00', 1: 'data01', 2: 'data02', 3: 'data03', 4: 'data04', 5: 'data05', 6: 'data06', 7: 'data07', 8: 'data08', 9: 'data09', 10: 'data10', 11: 'data11', 12: 'data12', 13: 'data13', 14: 'data14', 15: 'data15', 16: 'data16', 17: 'data17', 18: 'data18', 19: 'data19', 20: 'data20', 21: 'data21'}\n"
     ]
    }
   ],
   "source": [
    "index = { i : f'data{i:02}' for i in range(22)}\n",
    "print(index)"
   ]
  },
  {
   "cell_type": "code",
   "execution_count": 194,
   "metadata": {},
   "outputs": [
    {
     "name": "stdout",
     "output_type": "stream",
     "text": [
      "{'data00': <numpy.lib.npyio.NpzFile object at 0x7fdf5aecc898>, 'data01': <numpy.lib.npyio.NpzFile object at 0x7fdf5aeccef0>, 'data02': <numpy.lib.npyio.NpzFile object at 0x7fdf5ba49198>, 'data03': <numpy.lib.npyio.NpzFile object at 0x7fdf5b1590f0>, 'data04': <numpy.lib.npyio.NpzFile object at 0x7fdf5b159b70>, 'data05': <numpy.lib.npyio.NpzFile object at 0x7fdf5b1593c8>, 'data06': <numpy.lib.npyio.NpzFile object at 0x7fdf5b159d30>, 'data07': <numpy.lib.npyio.NpzFile object at 0x7fdf5b159748>, 'data08': <numpy.lib.npyio.NpzFile object at 0x7fdf5b159cc0>, 'data09': <numpy.lib.npyio.NpzFile object at 0x7fdf5b159e48>, 'data10': <numpy.lib.npyio.NpzFile object at 0x7fdf5b159320>, 'data11': <numpy.lib.npyio.NpzFile object at 0x7fdf5b1595f8>, 'data12': <numpy.lib.npyio.NpzFile object at 0x7fdf5b159908>, 'data13': <numpy.lib.npyio.NpzFile object at 0x7fdf5b1590b8>, 'data14': <numpy.lib.npyio.NpzFile object at 0x7fdf5b14e390>, 'data15': <numpy.lib.npyio.NpzFile object at 0x7fdf5b14e128>, 'data16': <numpy.lib.npyio.NpzFile object at 0x7fdf5b14e5c0>, 'data17': <numpy.lib.npyio.NpzFile object at 0x7fdf5b14eeb8>, 'data18': <numpy.lib.npyio.NpzFile object at 0x7fdf5b14eb70>, 'data19': <numpy.lib.npyio.NpzFile object at 0x7fdf5b14e438>, 'data20': <numpy.lib.npyio.NpzFile object at 0x7fdf5b14e198>, 'data21': <numpy.lib.npyio.NpzFile object at 0x7fdf5b14e908>}\n"
     ]
    }
   ],
   "source": [
    "dataset = {f'data{i:02}' : np.load(f'/work/barane/data_odometry_velodyne/dataset/sequences/{i:02}/images/projections.npz') for i in range(22)}\n",
    "print(dataset)"
   ]
  },
  {
   "cell_type": "code",
   "execution_count": 195,
   "metadata": {},
   "outputs": [
    {
     "name": "stdout",
     "output_type": "stream",
     "text": [
      "data00 : ['arr_0'] , data01 : ['arr_0'] , data02 : ['arr_0'] , data03 : ['arr_0'] , data04 : ['arr_0'] , data05 : ['arr_0'] , data06 : ['arr_0'] , data07 : ['arr_0'] , data08 : ['arr_0'] , data09 : ['arr_0'] , data10 : ['arr_0'] , data11 : ['arr_0'] , data12 : ['arr_0'] , data13 : ['arr_0'] , data14 : ['arr_0'] , data15 : ['arr_0'] , data16 : ['arr_0'] , data17 : ['arr_0'] , data18 : ['arr_0'] , data19 : ['arr_0'] , data20 : ['arr_0'] , data21 : ['arr_0'] , "
     ]
    }
   ],
   "source": [
    "for i in range(22):\n",
    "    print(f'data{i:02} :',dataset[index[i]].files, \", \", end=\"\")\n",
    "# print(np.shape((dataset[index[4]]['arr_0'])[0]))"
   ]
  },
  {
   "cell_type": "code",
   "execution_count": 196,
   "metadata": {},
   "outputs": [
    {
     "name": "stdout",
     "output_type": "stream",
     "text": [
      "Shape of 1 : (65536, 5)\n"
     ]
    }
   ],
   "source": [
    "print(f'Shape of 1 :', np.shape((dataset[index[1]]['arr_0'])[0]) )\n",
    "\n",
    "# for i in range(22):\n",
    "#     print(f'Shape of {i:02} :', np.shape((dataset[index[i]]['arr_0'])[0]) )"
   ]
  },
  {
   "cell_type": "code",
   "execution_count": 197,
   "metadata": {},
   "outputs": [
    {
     "name": "stdout",
     "output_type": "stream",
     "text": [
      "Shape 1 after Reshape : (64, 1024, 5)\n"
     ]
    }
   ],
   "source": [
    "print(f'Shape 1 after Reshape :', np.shape(((dataset[index[1]]['arr_0'])[0]).reshape(64,1024,5)))"
   ]
  },
  {
   "cell_type": "code",
   "execution_count": 198,
   "metadata": {},
   "outputs": [
    {
     "name": "stdout",
     "output_type": "stream",
     "text": [
      "Shape 0 : (64, 1024)\n",
      "Shape 1 : (64, 1024)\n",
      "Shape 2 : (64, 1024)\n",
      "Shape 3 : (64, 1024)\n",
      "Shape 4 : (64, 1024)\n"
     ]
    }
   ],
   "source": [
    "for i in range(5):\n",
    "    print(f'Shape {i} :', np.shape((((dataset[index[1]]['arr_0'])[0]).reshape(64,1024,5))[:,:,i]))\n",
    "    # plt.imshow((((dataset[index[1]]['arr_0'])[0]).reshape(64,1024,5))[:,:,i])\n",
    "    # plt.show()"
   ]
  },
  {
   "cell_type": "code",
   "execution_count": 3,
   "metadata": {},
   "outputs": [],
   "source": [
    "data = []\n",
    "for i in range(22):\n",
    "    data.append(np.load(f'/work/barane/data_odometry_velodyne/dataset/sequences/{i:02}/images/projections.npz'))"
   ]
  },
  {
   "cell_type": "code",
   "execution_count": 5,
   "metadata": {},
   "outputs": [
    {
     "name": "stdout",
     "output_type": "stream",
     "text": [
      "Shape 00 : (4541, 65536, 5)\n",
      "Shape 01 : (1101, 65536, 5)\n",
      "Shape 02 : (4661, 65536, 5)\n",
      "Shape 03 : (801, 65536, 5)\n",
      "Shape 04 : (271, 65536, 5)\n",
      "Shape 05 : (2761, 65536, 5)\n",
      "Shape 06 : (1101, 65536, 5)\n",
      "Shape 07 : (1101, 65536, 5)\n",
      "Shape 08 : (4071, 65536, 5)\n",
      "Shape 09 : (1591, 65536, 5)\n",
      "Shape 10 : (1201, 65536, 5)\n",
      "Shape 11 : (921, 65536, 5)\n",
      "Shape 12 : (1061, 65536, 5)\n",
      "Shape 13 : (3281, 65536, 5)\n",
      "Shape 14 : (631, 65536, 5)\n",
      "Shape 15 : (1901, 65536, 5)\n",
      "Shape 16 : (1731, 65536, 5)\n",
      "Shape 17 : (491, 65536, 5)\n",
      "Shape 18 : (1801, 65536, 5)\n",
      "Shape 19 : (4981, 65536, 5)\n",
      "Shape 20 : (831, 65536, 5)\n",
      "Shape 21 : (2721, 65536, 5)\n"
     ]
    }
   ],
   "source": [
    "for i in range(22):\n",
    "    print( f'Shape {i:02} :', np.shape(((data[i])['arr_0'])) )"
   ]
  }
 ],
 "metadata": {
  "interpreter": {
   "hash": "0878e1a05bafebdb3b95dd8cbddf25c22e9abc088b0d3e30dda604c7de05ea3e"
  },
  "kernelspec": {
   "display_name": "Python 3.6.13 (conda)",
   "language": "python",
   "name": "python3"
  },
  "language_info": {
   "codemirror_mode": {
    "name": "ipython",
    "version": 3
   },
   "file_extension": ".py",
   "mimetype": "text/x-python",
   "name": "python",
   "nbconvert_exporter": "python",
   "pygments_lexer": "ipython3",
   "version": "3.6.12"
  },
  "orig_nbformat": 4
 },
 "nbformat": 4,
 "nbformat_minor": 2
}
